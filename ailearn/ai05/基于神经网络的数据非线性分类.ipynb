{
 "cells": [
  {
   "cell_type": "code",
   "execution_count": 1,
   "metadata": {},
   "outputs": [],
   "source": [
    "import pandas as pd\n",
    "import numpy as np\n",
    "%matplotlib inline\n",
    "from matplotlib import pyplot as plt  "
   ]
  },
  {
   "cell_type": "code",
   "execution_count": 2,
   "metadata": {},
   "outputs": [
    {
     "data": {
      "text/html": [
       "<div>\n",
       "<style scoped>\n",
       "    .dataframe tbody tr th:only-of-type {\n",
       "        vertical-align: middle;\n",
       "    }\n",
       "\n",
       "    .dataframe tbody tr th {\n",
       "        vertical-align: top;\n",
       "    }\n",
       "\n",
       "    .dataframe thead th {\n",
       "        text-align: right;\n",
       "    }\n",
       "</style>\n",
       "<table border=\"1\" class=\"dataframe\">\n",
       "  <thead>\n",
       "    <tr style=\"text-align: right;\">\n",
       "      <th></th>\n",
       "      <th>x1</th>\n",
       "      <th>x2</th>\n",
       "      <th>y</th>\n",
       "    </tr>\n",
       "  </thead>\n",
       "  <tbody>\n",
       "    <tr>\n",
       "      <th>0</th>\n",
       "      <td>1.413822</td>\n",
       "      <td>-0.902414</td>\n",
       "      <td>1</td>\n",
       "    </tr>\n",
       "    <tr>\n",
       "      <th>1</th>\n",
       "      <td>0.398968</td>\n",
       "      <td>0.840562</td>\n",
       "      <td>0</td>\n",
       "    </tr>\n",
       "    <tr>\n",
       "      <th>2</th>\n",
       "      <td>0.082914</td>\n",
       "      <td>1.001508</td>\n",
       "      <td>0</td>\n",
       "    </tr>\n",
       "    <tr>\n",
       "      <th>3</th>\n",
       "      <td>0.803345</td>\n",
       "      <td>0.971489</td>\n",
       "      <td>0</td>\n",
       "    </tr>\n",
       "    <tr>\n",
       "      <th>4</th>\n",
       "      <td>1.563305</td>\n",
       "      <td>-0.410711</td>\n",
       "      <td>1</td>\n",
       "    </tr>\n",
       "  </tbody>\n",
       "</table>\n",
       "</div>"
      ],
      "text/plain": [
       "         x1        x2  y\n",
       "0  1.413822 -0.902414  1\n",
       "1  0.398968  0.840562  0\n",
       "2  0.082914  1.001508  0\n",
       "3  0.803345  0.971489  0\n",
       "4  1.563305 -0.410711  1"
      ]
     },
     "execution_count": 2,
     "metadata": {},
     "output_type": "execute_result"
    }
   ],
   "source": [
    "TrainSet = pd.read_csv('MoonDataTrain.csv')\n",
    "TestSet = pd.read_csv('MoonDataTest.csv')\n",
    "TestSet.head()"
   ]
  },
  {
   "cell_type": "code",
   "execution_count": 3,
   "metadata": {},
   "outputs": [],
   "source": [
    "def plot_decision_boundary(pred_func):\n",
    "\n",
    "    # 设定最大最小值，附加一点点边缘填充\n",
    "    x_min, x_max = TrainSet.x1.min() - .5, TrainSet.x1.max() + .5\n",
    "    y_min, y_max = TrainSet.x2.min() - .5, TrainSet.x2.max() + .5\n",
    "    h = 0.01\n",
    "\n",
    "    xx, yy = np.meshgrid(np.arange(x_min, x_max, h), np.arange(y_min, y_max, h))\n",
    "\n",
    "    # 用预测函数预测一下\n",
    "    Z = pred_func(np.c_[xx.ravel(), yy.ravel()])\n",
    "    Z = Z.reshape(xx.shape)\n",
    "\n",
    "    # 然后画出图\n",
    "    plt.contourf(xx, yy, Z, cmap=plt.cm.Spectral)\n",
    "    plt.scatter(TestSet.x1, TestSet.x2, c=TestSet.y, cmap=plt.cm.Spectral)"
   ]
  },
  {
   "cell_type": "code",
   "execution_count": 4,
   "metadata": {},
   "outputs": [],
   "source": [
    "# 判定结果的函数\n",
    "def predict(model, x):\n",
    "    W1, b1, W2, b2 = model['W1'], model['b1'], model['W2'], model['b2']\n",
    "    # 前向运算\n",
    "    z1 = x.dot(W1) + b1\n",
    "    a1 = np.tanh(z1)\n",
    "    z2 = a1.dot(W2) + b2\n",
    "    exp_scores = np.exp(z2)\n",
    "    # 计算概率输出最大概率对应的类别\n",
    "    probs = exp_scores / np.sum(exp_scores, axis=1, keepdims=True)\n",
    "    return np.argmax(probs, axis=1)"
   ]
  },
  {
   "cell_type": "code",
   "execution_count": 6,
   "metadata": {},
   "outputs": [],
   "source": [
    "def calculate_loss(model, X, y):\n",
    "    num_examples = len(X) # 样本数\n",
    "    W1, b1, W2, b2 = model['W1'], model['b1'], model['W2'], model['b2']\n",
    "    # 向前推进，前向运算\n",
    "    z1 = X.dot(W1) + b1\n",
    "    a1 = np.tanh(z1)\n",
    "    z2 = a1.dot(W2) + b2\n",
    "    exp_scores = np.exp(z2)\n",
    "    probs = exp_scores / np.sum(exp_scores, axis=1, keepdims=True)\n",
    "    # 计算损失\n",
    "    corect_logprobs = -np.log(probs[range(num_examples), y])\n",
    "    data_loss = np.sum(corect_logprobs)\n",
    "    # 也得加一下正则化项\n",
    "    data_loss += reg_lambda/2 * (np.sum(np.square(W1)) + np.sum(np.square(W2)))\n",
    "    return 1./num_examples * data_loss"
   ]
  },
  {
   "cell_type": "code",
   "execution_count": 8,
   "metadata": {},
   "outputs": [],
   "source": [
    "# 完整的训练建模函数定义\n",
    "def build_model(nn_hdim, num_passes=20000, print_loss=False):\n",
    "    '''\n",
    "    参数：\n",
    "    1) nn_hdim: 隐层节点个数\n",
    "    2）num_passes: 梯度下降迭代次数\n",
    "    3）print_loss: 设定为True的话，每1000次迭代输出一次loss的当前值\n",
    "    '''\n",
    "    # 随机初始化一下权重呗\n",
    "    np.random.seed(0)\n",
    "    W1 = np.random.randn(nn_input_dim, nn_hdim) / np.sqrt(nn_input_dim)\n",
    "    b1 = np.zeros((1, nn_hdim))\n",
    "    W2 = np.random.randn(nn_hdim, nn_output_dim) / np.sqrt(nn_hdim)\n",
    "    b2 = np.zeros((1, nn_output_dim))\n",
    " \n",
    "    # 这是咱们最后学到的模型\n",
    "    model = {}\n",
    "    X = np.array(TrainSet.iloc[:,:2])\n",
    "    y = TrainSet.y\n",
    "    num_examples = len(X) # 样本数\n",
    "    # 开始梯度下降...\n",
    "    for i in range(0, num_passes):\n",
    " \n",
    "        # 前向运算计算loss\n",
    "        z1 = X.dot(W1) + b1\n",
    "        a1 = np.tanh(z1)\n",
    "        z2 = a1.dot(W2) + b2\n",
    "        exp_scores = np.exp(z2)\n",
    "        probs = exp_scores / np.sum(exp_scores, axis=1, keepdims=True)\n",
    " \n",
    "        # 反向传播\n",
    "        delta3 = probs\n",
    "        delta3[range(num_examples), y] -= 1\n",
    "        dW2 = (a1.T).dot(delta3)\n",
    "        db2 = np.sum(delta3, axis=0, keepdims=True)\n",
    "        delta2 = delta3.dot(W2.T) * (1 - np.power(a1, 2))\n",
    "        dW1 = np.dot(X.T, delta2)\n",
    "        db1 = np.sum(delta2, axis=0)\n",
    " \n",
    "        # 加上正则化项\n",
    "        dW2 += reg_lambda * W2\n",
    "        dW1 += reg_lambda * W1\n",
    " \n",
    "        # 梯度下降更新参数\n",
    "        W1 += -epsilon * dW1\n",
    "        b1 += -epsilon * db1\n",
    "        W2 += -epsilon * dW2\n",
    "        b2 += -epsilon * db2\n",
    "         \n",
    "        # 得到的模型实际上就是这些权重\n",
    "        model = { 'W1': W1, 'b1': b1, 'W2': W2, 'b2': b2}\n",
    "         \n",
    "        # 如果设定print_loss了，那我们汇报一下中间状况\n",
    "        if print_loss and i % 1000 == 0:\n",
    "          print (\"Train Loss after iteration %i: %f\" %(i, \n",
    "                            calculate_loss(model, np.array(TrainSet.iloc[:,:2]), TrainSet.y)))\n",
    "        if print_loss and i % 5000 == 0:\n",
    "          print (\"-----> Test Loss after iteration %i: %f\" %(i, \n",
    "                            calculate_loss(model, np.array(TestSet.iloc[:,:2]), TestSet.y)))\n",
    "    print(\"------> Train Stop at final Loss: %f\" % (calculate_loss(model, np.array(TestSet.iloc[:,:2]), TestSet.y)))\n",
    "    return model"
   ]
  },
  {
   "cell_type": "code",
   "execution_count": 12,
   "metadata": {},
   "outputs": [
    {
     "name": "stdout",
     "output_type": "stream",
     "text": [
      "Train Loss after iteration 0: 1.781779\n",
      "-----> Test Loss after iteration 0: 1.812203\n",
      "Train Loss after iteration 1000: 0.073220\n",
      "Train Loss after iteration 2000: 0.070201\n",
      "Train Loss after iteration 3000: 0.070075\n",
      "Train Loss after iteration 4000: 0.076766\n",
      "Train Loss after iteration 5000: 0.081316\n",
      "-----> Test Loss after iteration 5000: 0.119552\n",
      "Train Loss after iteration 6000: 0.070249\n",
      "Train Loss after iteration 7000: 0.069994\n",
      "Train Loss after iteration 8000: 0.076373\n",
      "Train Loss after iteration 9000: 0.072051\n",
      "Train Loss after iteration 10000: 0.072040\n",
      "-----> Test Loss after iteration 10000: 0.109029\n",
      "Train Loss after iteration 11000: 0.072038\n",
      "Train Loss after iteration 12000: 0.072038\n",
      "Train Loss after iteration 13000: 0.072039\n",
      "Train Loss after iteration 14000: 0.072042\n",
      "Train Loss after iteration 15000: 0.072046\n",
      "-----> Test Loss after iteration 15000: 0.108898\n",
      "Train Loss after iteration 16000: 0.072050\n",
      "Train Loss after iteration 17000: 0.072054\n",
      "Train Loss after iteration 18000: 0.072058\n",
      "Train Loss after iteration 19000: 0.072062\n",
      "------> Train Stop at final Loss: 0.118937\n"
     ]
    },
    {
     "data": {
      "image/png": "[encoded data removed]",
      "text/plain": [
       "<Figure size 432x288 with 1 Axes>"
      ]
     },
     "metadata": {},
     "output_type": "display_data"
    }
   ],
   "source": [
    "nn_input_dim = 2 # 输入的维度\n",
    "nn_output_dim = 2 # 输出的类别个数\n",
    " \n",
    "# 梯度下降参数\n",
    "epsilon = 0.003 # 学习率\n",
    "reg_lambda = 0.0001 # 正则化参数\n",
    "\n",
    "# 建立隐层有3个节点(神经元)的神经网络\n",
    "model = build_model(5,print_loss=True)\n",
    " \n",
    "# 然后再把决策/判定边界画出来\n",
    "plot_decision_boundary(lambda x: predict(model, x))\n",
    "plt.title(\"Decision Boundary for hidden layer size 3\")\n",
    "plt.show()"
   ]
  },
  {
   "cell_type": "code",
   "execution_count": 10,
   "metadata": {},
   "outputs": [
    {
     "name": "stdout",
     "output_type": "stream",
     "text": [
      "0.964\n"
     ]
    }
   ],
   "source": [
    "print(np.mean(predict(model, np.array(TestSet.iloc[:,:2])) == TestSet.y))"
   ]
  },
  {
   "cell_type": "code",
   "execution_count": null,
   "metadata": {},
   "outputs": [],
   "source": []
  }
 ],
 "metadata": {
  "kernelspec": {
   "display_name": "Python 3",
   "language": "python",
   "name": "python3"
  },
  "language_info": {
   "codemirror_mode": {
    "name": "ipython",
    "version": 3
   },
   "file_extension": ".py",
   "mimetype": "text/x-python",
   "name": "python",
   "nbconvert_exporter": "python",
   "pygments_lexer": "ipython3",
   "version": "3.6.5"
  }
 },
 "nbformat": 4,
 "nbformat_minor": 2
}
