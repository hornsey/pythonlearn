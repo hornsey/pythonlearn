{
 "cells": [
  {
   "cell_type": "code",
   "execution_count": 1,
   "metadata": {},
   "outputs": [],
   "source": [
    "import numpy as np\n",
    "import pandas as pd"
   ]
  },
  {
   "cell_type": "code",
   "execution_count": null,
   "metadata": {},
   "outputs": [],
   "source": []
  },
  {
   "cell_type": "code",
   "execution_count": null,
   "metadata": {},
   "outputs": [],
   "source": []
  },
  {
   "cell_type": "code",
   "execution_count": 6,
   "metadata": {},
   "outputs": [],
   "source": [
    "data = pd.read_csv(\"Iris.csv\")\n",
    "data.drop(\"Id\", axis=1, inplace=True)\n",
    "data.drop_duplicates(inplace=True)\n",
    "data[\"Species\"] = data[\"Species\"].map({\"Iris-virginica\":0,\"Iris-setosa\":1,\"Iris-versicolor\":-1})\n",
    "data = data[data[\"Species\"] != 0]"
   ]
  },
  {
   "cell_type": "code",
   "execution_count": 5,
   "metadata": {},
   "outputs": [
    {
     "data": {
      "text/plain": [
       "Iris-virginica     50\n",
       "Iris-setosa        50\n",
       "Iris-versicolor    50\n",
       "Name: Species, dtype: int64"
      ]
     },
     "execution_count": 5,
     "metadata": {},
     "output_type": "execute_result"
    }
   ],
   "source": [
    "data[\"Species\"].value_counts()"
   ]
  },
  {
   "cell_type": "code",
   "execution_count": 7,
   "metadata": {},
   "outputs": [
    {
     "data": {
      "text/plain": [
       "98"
      ]
     },
     "execution_count": 7,
     "metadata": {},
     "output_type": "execute_result"
    }
   ],
   "source": [
    "len(data)"
   ]
  },
  {
   "cell_type": "code",
   "execution_count": 17,
   "metadata": {},
   "outputs": [],
   "source": [
    "class Perception:\n",
    "    \"\"\"感知器算法，实现二分类\"\"\"\n",
    "    \n",
    "    def __init__(self, alpha, times):\n",
    "        \"\"\"初始化方法。\n",
    "        \n",
    "        \"\"\"\n",
    "        self.alpha = alpha\n",
    "        self.times = times\n",
    "        \n",
    "    def step(self, z):\n",
    "        \"\"\"阶跃函数。\n",
    "        \n",
    "        Parameters\n",
    "        ——————\n",
    "        z:参数。根据z的值，返回1或者-1\n",
    "        \"\"\"\n",
    "        \n",
    "        return np.where(z>=0, 1, -1)\n",
    "    \n",
    "    def fit(self, X, y):\n",
    "        \"\"\"训练模型。\n",
    "        \n",
    "        \"\"\"\n",
    "        X = np.asarray(X)\n",
    "        y = np.asarray(y)\n",
    "        self.w_ = np.zeros(1 + X.shape[1])\n",
    "        self.loss_ = []\n",
    "        \n",
    "        for i in range(self.times):\n",
    "            loss = 0\n",
    "            for x, target in zip(X, y):\n",
    "                y_hat = self.step(np.dot(x, self.w_[1:]) + self.w_[0])\n",
    "                loss += y_hat != target\n",
    "                # 更新权重\n",
    "                self.w_[0] += self.alpha * (target - y_hat)\n",
    "                self.w_[1:] += self.alpha * (target - y_hat)*x\n",
    "            self.loss_.append(loss)\n",
    "            \n",
    "    def predict(self, X):\n",
    "        \"\"\"样本数据预测。（1或-1）\n",
    "        \n",
    "        \"\"\"\n",
    "        return self.step(np.dot(X, self.w_[1:]) + self.w_[0])        "
   ]
  },
  {
   "cell_type": "code",
   "execution_count": 18,
   "metadata": {},
   "outputs": [],
   "source": [
    "t1 = data[data['Species'] == 1]\n",
    "t2 = data[data['Species'] == -1]\n",
    "t1 = t1.sample(len(t1), random_state=0)\n",
    "t2 = t2.sample(len(t2), random_state=0)\n",
    "train_X = pd.concat([t1.iloc[:40, :-1], t2.iloc[:40, :-1]], axis=0)\n",
    "train_y = pd.concat([t1.iloc[:40, -1], t2.iloc[:40, -1]], axis=0)\n",
    "test_X = pd.concat([t1.iloc[40:, :-1], t2.iloc[40:, :-1]], axis=0)\n",
    "test_y = pd.concat([t1.iloc[40:, -1], t2.iloc[40:, -1]], axis=0)"
   ]
  },
  {
   "cell_type": "code",
   "execution_count": 19,
   "metadata": {},
   "outputs": [
    {
     "data": {
      "text/plain": [
       "array([ 1,  1,  1,  1,  1,  1,  1,  1, -1, -1, -1, -1, -1, -1, -1, -1, -1,\n",
       "       -1])"
      ]
     },
     "metadata": {},
     "output_type": "display_data"
    },
    {
     "data": {
      "text/plain": [
       "array([ 1,  1,  1,  1,  1,  1,  1,  1, -1, -1, -1, -1, -1, -1, -1, -1, -1,\n",
       "       -1])"
      ]
     },
     "metadata": {},
     "output_type": "display_data"
    },
    {
     "data": {
      "text/plain": [
       "array([ 0.2 ,  0.22,  0.9 , -1.46, -0.74])"
      ]
     },
     "metadata": {},
     "output_type": "display_data"
    },
    {
     "data": {
      "text/plain": [
       "[1, 3, 2, 1, 0, 0, 0, 0, 0, 0]"
      ]
     },
     "metadata": {},
     "output_type": "display_data"
    }
   ],
   "source": [
    "p = Perception(0.1, 10)\n",
    "p.fit(train_X, train_y)\n",
    "result = p.predict(test_X)\n",
    "display(result)\n",
    "display(test_y.values)\n",
    "display(p.w_)\n",
    "display(p.loss_)"
   ]
  },
  {
   "cell_type": "code",
   "execution_count": 20,
   "metadata": {},
   "outputs": [],
   "source": [
    "import matplotlib as mpl\n",
    "import matplotlib.pyplot as plt\n"
   ]
  },
  {
   "cell_type": "code",
   "execution_count": 21,
   "metadata": {},
   "outputs": [
    {
     "data": {
      "image/png": "[encoded data removed]",
      "text/plain": [
       "<Figure size 432x288 with 1 Axes>"
      ]
     },
     "metadata": {},
     "output_type": "display_data"
    }
   ],
   "source": [
    "plt.plot(test_y.values, \"go\", ms=15, label=\"real value\")\n",
    "plt.plot(result, 'rx', ms=15, label='predict value')\n",
    "plt.title('perception ')\n",
    "plt.xlabel('index')\n",
    "plt.ylabel('type')\n",
    "plt.legend()\n",
    "plt.show()"
   ]
  },
  {
   "cell_type": "code",
   "execution_count": 22,
   "metadata": {},
   "outputs": [
    {
     "data": {
      "text/plain": [
       "[<matplotlib.lines.Line2D at 0x116db75f8>]"
      ]
     },
     "execution_count": 22,
     "metadata": {},
     "output_type": "execute_result"
    },
    {
     "data": {
      "image/png": "[encoded data removed]",
      "text/plain": [
       "<Figure size 432x288 with 1 Axes>"
      ]
     },
     "metadata": {},
     "output_type": "display_data"
    }
   ],
   "source": [
    "plt.plot(range(1,p.times+1), p.loss_, \"ro--\")"
   ]
  },
  {
   "cell_type": "code",
   "execution_count": null,
   "metadata": {},
   "outputs": [],
   "source": []
  }
 ],
 "metadata": {
  "kernelspec": {
   "display_name": "Python 3",
   "language": "python",
   "name": "python3"
  },
  "language_info": {
   "codemirror_mode": {
    "name": "ipython",
    "version": 3
   },
   "file_extension": ".py",
   "mimetype": "text/x-python",
   "name": "python",
   "nbconvert_exporter": "python",
   "pygments_lexer": "ipython3",
   "version": "3.6.5"
  }
 },
 "nbformat": 4,
 "nbformat_minor": 2
}
