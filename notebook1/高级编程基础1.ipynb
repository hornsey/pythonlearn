{
 "cells": [
  {
   "cell_type": "markdown",
   "metadata": {},
   "source": [
    "## 集合类型"
   ]
  },
  {
   "cell_type": "code",
   "execution_count": 13,
   "metadata": {},
   "outputs": [
    {
     "name": "stdout",
     "output_type": "stream",
     "text": [
      "helloworld jack\n"
     ]
    }
   ],
   "source": [
    "a='helloworld'\n",
    "s=\" \".join([a,\"jack\"])\n",
    "print(s)"
   ]
  },
  {
   "cell_type": "code",
   "execution_count": 19,
   "metadata": {},
   "outputs": [
    {
     "name": "stdout",
     "output_type": "stream",
     "text": [
      "[0, 2, 4, 6, 8]\n"
     ]
    }
   ],
   "source": [
    "evens = [i for i in range(10) if i % 2 == 0]\n",
    "print(evens)"
   ]
  },
  {
   "cell_type": "code",
   "execution_count": 20,
   "metadata": {},
   "outputs": [
    {
     "name": "stdout",
     "output_type": "stream",
     "text": [
      "0 : one\n",
      "1 : two\n",
      "2 : three\n"
     ]
    }
   ],
   "source": [
    "l=['one','two','three']\n",
    "for index,value in enumerate(l):\n",
    "    print(index,\":\",value)"
   ]
  },
  {
   "cell_type": "code",
   "execution_count": 21,
   "metadata": {},
   "outputs": [
    {
     "name": "stdout",
     "output_type": "stream",
     "text": [
      "(1, 4)\n",
      "(2, 5)\n",
      "(3, 6)\n"
     ]
    }
   ],
   "source": [
    "for item in zip([1,2,3],[4,5,6]):\n",
    "    print(item)"
   ]
  },
  {
   "cell_type": "code",
   "execution_count": 23,
   "metadata": {},
   "outputs": [
    {
     "name": "stdout",
     "output_type": "stream",
     "text": [
      "(1, 2, 3)\n",
      "(4, 5, 6)\n"
     ]
    }
   ],
   "source": [
    "for item in zip(*zip([1,2,3],[4,5,6])):\n",
    "    print(item)"
   ]
  },
  {
   "cell_type": "code",
   "execution_count": 24,
   "metadata": {},
   "outputs": [
    {
     "name": "stdout",
     "output_type": "stream",
     "text": [
      "0\n",
      "1\n",
      "[2, 3]\n"
     ]
    }
   ],
   "source": [
    "first,second, *rest = 0,1,2,3\n",
    "print(first)\n",
    "print(second)\n",
    "print(rest)"
   ]
  },
  {
   "cell_type": "code",
   "execution_count": 25,
   "metadata": {},
   "outputs": [
    {
     "name": "stdout",
     "output_type": "stream",
     "text": [
      "0\n",
      "[1, 2, 3, 4]\n",
      "5\n"
     ]
    }
   ],
   "source": [
    "first, *inner, last = 0,1,2,3,4,5\n",
    "print(first)\n",
    "print(inner)\n",
    "print(last)"
   ]
  },
  {
   "cell_type": "code",
   "execution_count": 27,
   "metadata": {},
   "outputs": [
    {
     "name": "stdout",
     "output_type": "stream",
     "text": [
      "{0: 0, 1: 1, 2: 4, 3: 9, 4: 16, 5: 25, 6: 36, 7: 49, 8: 64, 9: 81}\n"
     ]
    }
   ],
   "source": [
    "squares = {num:num**2 for num in range(10)}\n",
    "print(squares)"
   ]
  },
  {
   "cell_type": "code",
   "execution_count": 30,
   "metadata": {},
   "outputs": [
    {
     "data": {
      "text/plain": [
       "dict_items([(0, 0), (1, 1), (2, 4), (3, 9), (4, 16), (5, 25), (6, 36), (7, 49), (8, 64), (9, 81)])"
      ]
     },
     "execution_count": 30,
     "metadata": {},
     "output_type": "execute_result"
    }
   ],
   "source": [
    "squares.items()"
   ]
  },
  {
   "cell_type": "code",
   "execution_count": 32,
   "metadata": {},
   "outputs": [
    {
     "data": {
      "text/plain": [
       "dict_keys(['0', '1', '2', '3', '4'])"
      ]
     },
     "execution_count": 32,
     "metadata": {},
     "output_type": "execute_result"
    }
   ],
   "source": [
    "{str(number): None for number in range(5)}.keys()"
   ]
  },
  {
   "cell_type": "code",
   "execution_count": 36,
   "metadata": {},
   "outputs": [
    {
     "name": "stdout",
     "output_type": "stream",
     "text": [
      "{'b', 'helloworld'}\n"
     ]
    }
   ],
   "source": [
    "s1=set([a,'b'])\n",
    "print(s1)"
   ]
  },
  {
   "cell_type": "code",
   "execution_count": 37,
   "metadata": {},
   "outputs": [
    {
     "data": {
      "text/plain": [
       "{'d', 'e', 'h', 'l', 'o', 'r', 'w'}"
      ]
     },
     "execution_count": 37,
     "metadata": {},
     "output_type": "execute_result"
    }
   ],
   "source": [
    "set(a)"
   ]
  },
  {
   "cell_type": "markdown",
   "metadata": {},
   "source": [
    "# 高级语法"
   ]
  },
  {
   "cell_type": "markdown",
   "metadata": {},
   "source": [
    "## 迭代器"
   ]
  },
  {
   "cell_type": "code",
   "execution_count": 41,
   "metadata": {},
   "outputs": [
    {
     "data": {
      "text/plain": [
       "'h'"
      ]
     },
     "execution_count": 41,
     "metadata": {},
     "output_type": "execute_result"
    }
   ],
   "source": [
    "i=iter('hello')\n",
    "next(i)\n"
   ]
  },
  {
   "cell_type": "code",
   "execution_count": 59,
   "metadata": {},
   "outputs": [],
   "source": [
    "class CountDown:\n",
    "    def __init__(self,step):\n",
    "        self.step = step\n",
    "        \n",
    "    def __next__(self):\n",
    "        if self.step <=0:\n",
    "            raise StopIteration\n",
    "        self.step -= 1\n",
    "        return self.step\n",
    "    \n",
    "    def __iter__(self):\n",
    "        return self\n",
    "\n"
   ]
  },
  {
   "cell_type": "code",
   "execution_count": 60,
   "metadata": {
    "collapsed": true
   },
   "outputs": [
    {
     "name": "stdout",
     "output_type": "stream",
     "text": [
      "4\n",
      "3\n",
      "2\n",
      "1\n",
      "0\n"
     ]
    }
   ],
   "source": [
    "for i in CountDown(5):\n",
    "    print(i)"
   ]
  },
  {
   "cell_type": "markdown",
   "metadata": {},
   "source": [
    "## yield语句"
   ]
  },
  {
   "cell_type": "code",
   "execution_count": 1,
   "metadata": {},
   "outputs": [],
   "source": [
    "def fibonacci():\n",
    "    a,b = 0,1\n",
    "    while True:\n",
    "        yield b\n",
    "        a,b = b, a+b\n",
    "        "
   ]
  },
  {
   "cell_type": "code",
   "execution_count": 2,
   "metadata": {},
   "outputs": [
    {
     "data": {
      "text/plain": [
       "1"
      ]
     },
     "execution_count": 2,
     "metadata": {},
     "output_type": "execute_result"
    }
   ],
   "source": [
    "fib = fibonacci()\n",
    "next(fib)"
   ]
  },
  {
   "cell_type": "code",
   "execution_count": 13,
   "metadata": {},
   "outputs": [],
   "source": [
    "def power(values):\n",
    "    for value in values:\n",
    "        print(\"powering %s \" % value)\n",
    "        yield value\n",
    "        \n",
    "def adder(values):\n",
    "    for value in values:\n",
    "        print('adding to %s' % value)\n",
    "        if value % 2 == 0:\n",
    "            yield value + 3\n",
    "        else:\n",
    "            yield value + 2"
   ]
  },
  {
   "cell_type": "code",
   "execution_count": 14,
   "metadata": {},
   "outputs": [],
   "source": [
    "elements = [1,4,7,9,12,19]\n",
    "results = adder(power(elements))"
   ]
  },
  {
   "cell_type": "code",
   "execution_count": 15,
   "metadata": {
    "collapsed": true
   },
   "outputs": [
    {
     "name": "stdout",
     "output_type": "stream",
     "text": [
      "powering 1 \n",
      "adding to 1\n"
     ]
    },
    {
     "data": {
      "text/plain": [
       "3"
      ]
     },
     "execution_count": 15,
     "metadata": {},
     "output_type": "execute_result"
    }
   ],
   "source": [
    "next(results)"
   ]
  },
  {
   "cell_type": "code",
   "execution_count": 23,
   "metadata": {},
   "outputs": [],
   "source": [
    "def psychologist():\n",
    "    print('Please tell me your problems')\n",
    "    while True:\n",
    "        answer = (yield)\n",
    "        if answer is not None:\n",
    "            if answer.endswith('?'):\n",
    "                print(\"Don't ask yourself too much questions\")\n",
    "            elif 'good' in answer:\n",
    "                print(\"Ahh that's good,go on\")\n",
    "            elif 'bad' in answer:\n",
    "                print(\"Don't be so negative\")"
   ]
  },
  {
   "cell_type": "code",
   "execution_count": 24,
   "metadata": {},
   "outputs": [
    {
     "name": "stdout",
     "output_type": "stream",
     "text": [
      "Please tell me your problems\n"
     ]
    }
   ],
   "source": [
    "free = psychologist()\n",
    "next(free)"
   ]
  },
  {
   "cell_type": "code",
   "execution_count": 25,
   "metadata": {},
   "outputs": [
    {
     "name": "stdout",
     "output_type": "stream",
     "text": [
      "Don't be so negative\n"
     ]
    }
   ],
   "source": [
    "free.send(\"I'm bad\")"
   ]
  },
  {
   "cell_type": "code",
   "execution_count": 26,
   "metadata": {},
   "outputs": [
    {
     "name": "stdout",
     "output_type": "stream",
     "text": [
      "Don't ask yourself too much questions\n"
     ]
    }
   ],
   "source": [
    "free.send(\"Why I shouldn't?\")"
   ]
  },
  {
   "cell_type": "code",
   "execution_count": 27,
   "metadata": {},
   "outputs": [
    {
     "name": "stdout",
     "output_type": "stream",
     "text": [
      "Ahh that's good,go on\n"
     ]
    }
   ],
   "source": [
    "free.send(\"ok, then i should find what is good for me\")"
   ]
  },
  {
   "cell_type": "markdown",
   "metadata": {},
   "source": [
    "## 装饰器"
   ]
  },
  {
   "cell_type": "code",
   "execution_count": 28,
   "metadata": {},
   "outputs": [],
   "source": [
    "class WithoutDecorators:\n",
    "    def some_static_method():\n",
    "        print(\"this is static method\")\n",
    "    some_static_method = staticmethod(some_static_method)\n",
    "    \n",
    "    def some_class_method(cls):\n",
    "        print(\"this is class methon\")\n",
    "    some_class_method = classmethod(some_class_method)\n",
    "    "
   ]
  },
  {
   "cell_type": "code",
   "execution_count": null,
   "metadata": {},
   "outputs": [],
   "source": [
    "class WithDecorators:\n",
    "    @staticmethod\n",
    "    def some_static_method():\n",
    "        print(\"this is static method1\")\n",
    "        \n",
    "    @classmethod\n",
    "    def some_class_method(cls):\n",
    "        print(\"this is class method1\")"
   ]
  },
  {
   "cell_type": "code",
   "execution_count": null,
   "metadata": {},
   "outputs": [],
   "source": [
    "def mydecorator(function):\n",
    "   def wrapped(*args, **kwargs):\n",
    "       # 在调用原始函数之前，做点什么\n",
    "       result = function(*args, **kwargs)\n",
    "       # 在函数调用之后，做点什么，\n",
    "       # 并返回结果\n",
    "       return result\n",
    "   # 返回wrapper作为装饰函数\n",
    "   return wrapped"
   ]
  },
  {
   "cell_type": "code",
   "execution_count": 29,
   "metadata": {},
   "outputs": [],
   "source": [
    "def repeat(number=3):\n",
    "    \"\"\"多次重复执行装饰函数\n",
    "    \"\"\"\n",
    "    def actual_decorator(function):\n",
    "        def wrapper(*args,**kwargs):\n",
    "            result = None\n",
    "            for _ in range(number):\n",
    "                result = function(*args, **kwargs)\n",
    "            return result\n",
    "        return wrapper\n",
    "    return actual_decorator"
   ]
  },
  {
   "cell_type": "code",
   "execution_count": 30,
   "metadata": {},
   "outputs": [],
   "source": [
    "@repeat(2)\n",
    "def foo():\n",
    "    print(\"foo\")\n",
    "    "
   ]
  },
  {
   "cell_type": "code",
   "execution_count": 31,
   "metadata": {
    "collapsed": true
   },
   "outputs": [
    {
     "name": "stdout",
     "output_type": "stream",
     "text": [
      "foo\n",
      "foo\n"
     ]
    }
   ],
   "source": [
    "foo()"
   ]
  },
  {
   "cell_type": "code",
   "execution_count": 32,
   "metadata": {},
   "outputs": [],
   "source": [
    "@repeat()\n",
    "def bar():\n",
    "    print(\"bar\")"
   ]
  },
  {
   "cell_type": "code",
   "execution_count": 33,
   "metadata": {
    "collapsed": true
   },
   "outputs": [
    {
     "name": "stdout",
     "output_type": "stream",
     "text": [
      "bar\n",
      "bar\n",
      "bar\n"
     ]
    }
   ],
   "source": [
    "bar()"
   ]
  },
  {
   "cell_type": "code",
   "execution_count": 34,
   "metadata": {},
   "outputs": [],
   "source": [
    "def dummy_decorator(function):\n",
    "    def wrapped(*args, **kwargs):\n",
    "        \"\"\"包装函数内部文档\"\"\"\n",
    "        return function(*args,**kwargs)\n",
    "    return wrapped"
   ]
  },
  {
   "cell_type": "code",
   "execution_count": 36,
   "metadata": {},
   "outputs": [],
   "source": [
    "@dummy_decorator\n",
    "def function_with_important_docstring():\n",
    "    \"\"\"这是我们想要保存的重要文档字符串\"\"\""
   ]
  },
  {
   "cell_type": "code",
   "execution_count": 37,
   "metadata": {},
   "outputs": [
    {
     "data": {
      "text/plain": [
       "'wrapped'"
      ]
     },
     "execution_count": 37,
     "metadata": {},
     "output_type": "execute_result"
    }
   ],
   "source": [
    "function_with_important_docstring.__name__"
   ]
  },
  {
   "cell_type": "code",
   "execution_count": 38,
   "metadata": {},
   "outputs": [
    {
     "data": {
      "text/plain": [
       "'包装函数内部文档'"
      ]
     },
     "execution_count": 38,
     "metadata": {},
     "output_type": "execute_result"
    }
   ],
   "source": [
    "function_with_important_docstring.__doc__"
   ]
  },
  {
   "cell_type": "code",
   "execution_count": 40,
   "metadata": {},
   "outputs": [],
   "source": [
    "rpc_info = {}\n",
    "\n",
    "def xmlrpc(in_=(), out=(type(None),)):\n",
    "    def _xmlrpc(function):\n",
    "        #注册签名\n",
    "        func_name = function.__name__\n",
    "        rpc_info[func_name] = (in_,out)\n",
    "        \n",
    "        def _check_types(elements, types):\n",
    "            \"\"\"用来检查类型的子函数。\"\"\"\n",
    "            if len(elements) != len(types):\n",
    "                raise TypeError('argument count is wrong')\n",
    "            typed = enumerate(zip(elements,types))\n",
    "            for index, couple in typed:\n",
    "                arg, of_the_right_type = couple\n",
    "                if isinstance(arg, of_the_right_type):\n",
    "                    continue\n",
    "                raise TypeError('arg #%d should be %s' % (index, of_the_right_type))\n",
    "                \n",
    "        # 包装过的函数\n",
    "        def __xmlrpc(*args): #没有允许的关键词\n",
    "            #检查输入的内容\n",
    "            checkable_args = args[1:]\n",
    "            _check_types(checkable_args, in_)\n",
    "            #运行函数\n",
    "            res = function(*args)\n",
    "            # 检查输出的内容\n",
    "            if not type(res) in (tuple, list):\n",
    "                checkable_res = (res,)\n",
    "            else:\n",
    "                checkable_res = res\n",
    "            _check_types(checkable_res, out)\n",
    "            \n",
    "            # 函数及类型检查成功\n",
    "            return res\n",
    "        return __xmlrpc\n",
    "    return _xmlrpc"
   ]
  },
  {
   "cell_type": "code",
   "execution_count": 41,
   "metadata": {},
   "outputs": [],
   "source": [
    "class RPCView:\n",
    "    @xmlrpc((int,int)) # two int -> None\n",
    "    def meth1(self, int1, int2):\n",
    "        print('received %d and %d' % (int1,int2))\n",
    "        \n",
    "    @xmlrpc((str,),(int,)) # string -> int\n",
    "    def meth2(self, phrase):\n",
    "        print('received %s' % phrase)\n",
    "        return 12"
   ]
  },
  {
   "cell_type": "code",
   "execution_count": 42,
   "metadata": {},
   "outputs": [
    {
     "data": {
      "text/plain": [
       "{'meth1': ((int, int), (NoneType,)), 'meth2': ((str,), (int,))}"
      ]
     },
     "execution_count": 42,
     "metadata": {},
     "output_type": "execute_result"
    }
   ],
   "source": [
    "rpc_info"
   ]
  },
  {
   "cell_type": "code",
   "execution_count": 43,
   "metadata": {},
   "outputs": [
    {
     "name": "stdout",
     "output_type": "stream",
     "text": [
      "received 1 and 2\n"
     ]
    }
   ],
   "source": [
    "my = RPCView()\n",
    "my.meth1(1,2)"
   ]
  },
  {
   "cell_type": "code",
   "execution_count": 45,
   "metadata": {},
   "outputs": [
    {
     "name": "stdout",
     "output_type": "stream",
     "text": [
      "received hello\n"
     ]
    },
    {
     "data": {
      "text/plain": [
       "12"
      ]
     },
     "execution_count": 45,
     "metadata": {},
     "output_type": "execute_result"
    }
   ],
   "source": [
    "my.meth2(\"hello\")"
   ]
  },
  {
   "cell_type": "code",
   "execution_count": 47,
   "metadata": {},
   "outputs": [],
   "source": [
    "import time\n",
    "import hashlib\n",
    "import pickle\n",
    "\n",
    "cache = {}\n",
    "\n",
    "def is_obsolete(entry, duration):\n",
    "   return time.time() - entry['time'] > duration\n",
    "\n",
    "def compute_key(function, args, kw):\n",
    "   key = pickle.dumps((function.__name__, args, kw))\n",
    "   return hashlib.sha1(key).hexdigest()\n",
    "\n",
    "def memoize(duration=10):\n",
    "   def _memoize(function):\n",
    "       def __memoize(*args, **kw):\n",
    "           key = compute_key(function, args, kw)\n",
    "\n",
    "           # 是否已经拥有它了？\n",
    "           if (key in cache and\n",
    "               not is_obsolete(cache[key], duration)):\n",
    "               print('we got a winner')\n",
    "               return cache[key]['value']\n",
    "           # 计算\n",
    "           result = function(*args, **kw)\n",
    "           # 保存结果\n",
    "           cache[key] = {\n",
    "               'value': result,\n",
    "               'time': time.time()\n",
    "           }\n",
    "           return result\n",
    "       return __memoize\n",
    "   return _memoize"
   ]
  },
  {
   "cell_type": "code",
   "execution_count": 48,
   "metadata": {},
   "outputs": [],
   "source": [
    "@memoize()\n",
    "def very_very_very_complex_stuff(a,b):\n",
    "    # 如果执行时计算机死机，请中止程序\n",
    "    return a + b\n"
   ]
  },
  {
   "cell_type": "code",
   "execution_count": 55,
   "metadata": {},
   "outputs": [
    {
     "data": {
      "text/plain": [
       "7"
      ]
     },
     "execution_count": 55,
     "metadata": {},
     "output_type": "execute_result"
    }
   ],
   "source": [
    "very_very_very_complex_stuff(2,5)"
   ]
  },
  {
   "cell_type": "code",
   "execution_count": 59,
   "metadata": {},
   "outputs": [
    {
     "data": {
      "text/plain": [
       "7"
      ]
     },
     "execution_count": 59,
     "metadata": {},
     "output_type": "execute_result"
    }
   ],
   "source": [
    "very_very_very_complex_stuff(2,5)"
   ]
  },
  {
   "cell_type": "code",
   "execution_count": 60,
   "metadata": {},
   "outputs": [
    {
     "data": {
      "text/plain": [
       "{'47833c15f4beeda0b7b0177b98798073e819e499': {'value': 5,\n",
       "  'time': 1543756147.930739},\n",
       " 'c4ba025dbed84bd8eb75d4beacf6900922117068': {'value': 4,\n",
       "  'time': 1543756199.291903},\n",
       " '2146d952b9dca95c4fee021d7b7f26464c3db337': {'value': 7,\n",
       "  'time': 1543756369.251295}}"
      ]
     },
     "execution_count": 60,
     "metadata": {},
     "output_type": "execute_result"
    }
   ],
   "source": [
    "cache"
   ]
  },
  {
   "cell_type": "code",
   "execution_count": 58,
   "metadata": {},
   "outputs": [
    {
     "data": {
      "text/plain": [
       "{'47833c15f4beeda0b7b0177b98798073e819e499': {'value': 5,\n",
       "  'time': 1543756147.930739},\n",
       " 'c4ba025dbed84bd8eb75d4beacf6900922117068': {'value': 4,\n",
       "  'time': 1543756199.291903},\n",
       " '2146d952b9dca95c4fee021d7b7f26464c3db337': {'value': 7,\n",
       "  'time': 1543756306.41521}}"
      ]
     },
     "execution_count": 58,
     "metadata": {},
     "output_type": "execute_result"
    }
   ],
   "source": [
    "cache"
   ]
  },
  {
   "cell_type": "markdown",
   "metadata": {},
   "source": [
    "### 代理"
   ]
  },
  {
   "cell_type": "code",
   "execution_count": 61,
   "metadata": {},
   "outputs": [],
   "source": [
    "class User(object):\n",
    "   def __init__(self, roles):\n",
    "       self.roles = roles\n",
    "\n",
    "class Unauthorized(Exception):\n",
    "   pass\n",
    "\n",
    "def protect(role):\n",
    "   def _protect(function):\n",
    "       def __protect(*args, **kw):\n",
    "           user = globals().get('user')\n",
    "           if user is None or role not in user.roles:\n",
    "               raise Unauthorized(\"I won't tell you\")\n",
    "           return function(*args, **kw)\n",
    "       return __protect\n",
    "   return _protect"
   ]
  },
  {
   "cell_type": "code",
   "execution_count": 62,
   "metadata": {},
   "outputs": [],
   "source": [
    "tarek = User(('admin', 'user'))\n",
    "bill = User(('user',))"
   ]
  },
  {
   "cell_type": "code",
   "execution_count": 63,
   "metadata": {},
   "outputs": [],
   "source": [
    "class MySecrets(object):\n",
    "    @protect('admin')\n",
    "    def waffle_recipe(self):\n",
    "        print(\"use tons of butter\")"
   ]
  },
  {
   "cell_type": "code",
   "execution_count": 64,
   "metadata": {},
   "outputs": [],
   "source": [
    "these_are = MySecrets()"
   ]
  },
  {
   "cell_type": "code",
   "execution_count": 65,
   "metadata": {},
   "outputs": [],
   "source": [
    "user = tarek"
   ]
  },
  {
   "cell_type": "code",
   "execution_count": 66,
   "metadata": {},
   "outputs": [
    {
     "name": "stdout",
     "output_type": "stream",
     "text": [
      "use tons of butter\n"
     ]
    }
   ],
   "source": [
    "these_are.waffle_recipe()"
   ]
  },
  {
   "cell_type": "code",
   "execution_count": 67,
   "metadata": {},
   "outputs": [
    {
     "ename": "Unauthorized",
     "evalue": "I won't tell you",
     "output_type": "error",
     "traceback": [
      "\u001b[0;31m---------------------------------------------------------------------------\u001b[0m",
      "\u001b[0;31mUnauthorized\u001b[0m                              Traceback (most recent call last)",
      "\u001b[0;32m<ipython-input-67-788a6640cc20>\u001b[0m in \u001b[0;36m<module>\u001b[0;34m()\u001b[0m\n\u001b[1;32m      1\u001b[0m \u001b[0muser\u001b[0m \u001b[0;34m=\u001b[0m \u001b[0mbill\u001b[0m\u001b[0;34m\u001b[0m\u001b[0m\n\u001b[0;32m----> 2\u001b[0;31m \u001b[0mthese_are\u001b[0m\u001b[0;34m.\u001b[0m\u001b[0mwaffle_recipe\u001b[0m\u001b[0;34m(\u001b[0m\u001b[0;34m)\u001b[0m\u001b[0;34m\u001b[0m\u001b[0m\n\u001b[0m",
      "\u001b[0;32m<ipython-input-61-79b0a0ecbd29>\u001b[0m in \u001b[0;36m__protect\u001b[0;34m(*args, **kw)\u001b[0m\n\u001b[1;32m     11\u001b[0m            \u001b[0muser\u001b[0m \u001b[0;34m=\u001b[0m \u001b[0mglobals\u001b[0m\u001b[0;34m(\u001b[0m\u001b[0;34m)\u001b[0m\u001b[0;34m.\u001b[0m\u001b[0mget\u001b[0m\u001b[0;34m(\u001b[0m\u001b[0;34m'user'\u001b[0m\u001b[0;34m)\u001b[0m\u001b[0;34m\u001b[0m\u001b[0m\n\u001b[1;32m     12\u001b[0m            \u001b[0;32mif\u001b[0m \u001b[0muser\u001b[0m \u001b[0;32mis\u001b[0m \u001b[0;32mNone\u001b[0m \u001b[0;32mor\u001b[0m \u001b[0mrole\u001b[0m \u001b[0;32mnot\u001b[0m \u001b[0;32min\u001b[0m \u001b[0muser\u001b[0m\u001b[0;34m.\u001b[0m\u001b[0mroles\u001b[0m\u001b[0;34m:\u001b[0m\u001b[0;34m\u001b[0m\u001b[0m\n\u001b[0;32m---> 13\u001b[0;31m                \u001b[0;32mraise\u001b[0m \u001b[0mUnauthorized\u001b[0m\u001b[0;34m(\u001b[0m\u001b[0;34m\"I won't tell you\"\u001b[0m\u001b[0;34m)\u001b[0m\u001b[0;34m\u001b[0m\u001b[0m\n\u001b[0m\u001b[1;32m     14\u001b[0m            \u001b[0;32mreturn\u001b[0m \u001b[0mfunction\u001b[0m\u001b[0;34m(\u001b[0m\u001b[0;34m*\u001b[0m\u001b[0margs\u001b[0m\u001b[0;34m,\u001b[0m \u001b[0;34m**\u001b[0m\u001b[0mkw\u001b[0m\u001b[0;34m)\u001b[0m\u001b[0;34m\u001b[0m\u001b[0m\n\u001b[1;32m     15\u001b[0m        \u001b[0;32mreturn\u001b[0m \u001b[0m__protect\u001b[0m\u001b[0;34m\u001b[0m\u001b[0m\n",
      "\u001b[0;31mUnauthorized\u001b[0m: I won't tell you"
     ]
    }
   ],
   "source": [
    "user = bill\n",
    "these_are.waffle_recipe()"
   ]
  },
  {
   "cell_type": "markdown",
   "metadata": {},
   "source": [
    "### 上下文提供者"
   ]
  },
  {
   "cell_type": "code",
   "execution_count": 68,
   "metadata": {},
   "outputs": [],
   "source": [
    "from threading import RLock\n",
    "lock = RLock()\n",
    "\n",
    "def synchronized(function):\n",
    "   def _synchronized(*args, **kw):\n",
    "       lock.acquire()\n",
    "       try:\n",
    "           return function(*args, **kw)\n",
    "       finally:\n",
    "           lock.release()\n",
    "       return _synchronized\n",
    "\n",
    "@synchronized\n",
    "def thread_safe():  # 确保锁定资源\n",
    "   pass"
   ]
  },
  {
   "cell_type": "markdown",
   "metadata": {},
   "source": [
    "### with语句"
   ]
  },
  {
   "cell_type": "code",
   "execution_count": 69,
   "metadata": {},
   "outputs": [
    {
     "name": "stdout",
     "output_type": "stream",
     "text": [
      "127.0.0.1\tlocalhost\n",
      "255.255.255.255\tbroadcasthost\n",
      "52.84.246.72    d3c33hcgiwev3.cloudfront.net\n",
      "::1             localhost\n",
      "\n",
      "127.0.0.1 windows10.microdone.cn\n",
      "\n"
     ]
    }
   ],
   "source": [
    "hosts = open(\"/etc/hosts\")\n",
    "try:\n",
    "    for line in hosts:\n",
    "        if line.startswith(\"#\"):\n",
    "            continue\n",
    "        print(line.strip())\n",
    "finally:\n",
    "    hosts.close()"
   ]
  },
  {
   "cell_type": "code",
   "execution_count": 70,
   "metadata": {},
   "outputs": [
    {
     "name": "stdout",
     "output_type": "stream",
     "text": [
      "127.0.0.1\tlocalhost\n",
      "255.255.255.255\tbroadcasthost\n",
      "52.84.246.72    d3c33hcgiwev3.cloudfront.net\n",
      "::1             localhost\n",
      "\n",
      "127.0.0.1 windows10.microdone.cn\n",
      "\n"
     ]
    }
   ],
   "source": [
    "with open(\"/etc/hosts\") as hosts:\n",
    "    for line in hosts:\n",
    "        if line.startswith(\"#\"):\n",
    "            continue\n",
    "        print(line.strip())"
   ]
  },
  {
   "cell_type": "code",
   "execution_count": 72,
   "metadata": {},
   "outputs": [],
   "source": [
    "for n in range(3):\n",
    "    break\n",
    "else:\n",
    "    print(\"break\")"
   ]
  },
  {
   "cell_type": "code",
   "execution_count": 73,
   "metadata": {},
   "outputs": [],
   "source": [
    "def f(ham:str, eggs:str = 'eggs') -> str:\n",
    "    pass\n"
   ]
  },
  {
   "cell_type": "code",
   "execution_count": 74,
   "metadata": {},
   "outputs": [
    {
     "name": "stdout",
     "output_type": "stream",
     "text": [
      "{'ham': <class 'str'>, 'eggs': <class 'str'>, 'return': <class 'str'>}\n"
     ]
    }
   ],
   "source": [
    "print(f.__annotations__)"
   ]
  },
  {
   "cell_type": "code",
   "execution_count": 88,
   "metadata": {},
   "outputs": [],
   "source": [
    "class Mama():\n",
    "    def says(slef):\n",
    "        print(\"do your homework\")\n",
    "        \n",
    "class Sister(Mama):\n",
    "    def says(self):\n",
    "        super().says()\n",
    "        print(\"and clean your bedroom\")"
   ]
  },
  {
   "cell_type": "code",
   "execution_count": 89,
   "metadata": {},
   "outputs": [
    {
     "name": "stdout",
     "output_type": "stream",
     "text": [
      "do your homework\n",
      "and clean your bedroom\n"
     ]
    }
   ],
   "source": [
    "anita=Sister()\n",
    "anita.says()"
   ]
  },
  {
   "cell_type": "code",
   "execution_count": 90,
   "metadata": {},
   "outputs": [
    {
     "name": "stdout",
     "output_type": "stream",
     "text": [
      "do your homework\n"
     ]
    }
   ],
   "source": [
    "super(anita.__class__, anita).says()"
   ]
  },
  {
   "cell_type": "code",
   "execution_count": 102,
   "metadata": {},
   "outputs": [],
   "source": [
    "class A:\n",
    "   def __init__(self):\n",
    "       print(\"A\", end=\" \")\n",
    "       super(A).__init__()\n",
    "\n",
    "class B:\n",
    "   def __init__(self):\n",
    "       print(\"B\", end=\" \")\n",
    "       super().__init__()\n",
    "\n",
    "class C(A, B):\n",
    "   def __init__(self):\n",
    "       print(\"C\", end=\" \")\n",
    "       A.__init__(self)\n",
    "       #B.__init__(self)"
   ]
  },
  {
   "cell_type": "code",
   "execution_count": 103,
   "metadata": {},
   "outputs": [
    {
     "name": "stdout",
     "output_type": "stream",
     "text": [
      "C A "
     ]
    },
    {
     "data": {
      "text/plain": [
       "<__main__.C at 0x105a98390>"
      ]
     },
     "execution_count": 103,
     "metadata": {},
     "output_type": "execute_result"
    }
   ],
   "source": [
    "C()"
   ]
  },
  {
   "cell_type": "code",
   "execution_count": null,
   "metadata": {},
   "outputs": [],
   "source": []
  }
 ],
 "metadata": {
  "kernelspec": {
   "display_name": "Python 3",
   "language": "python",
   "name": "python3"
  },
  "language_info": {
   "codemirror_mode": {
    "name": "ipython",
    "version": 3
   },
   "file_extension": ".py",
   "mimetype": "text/x-python",
   "name": "python",
   "nbconvert_exporter": "python",
   "pygments_lexer": "ipython3",
   "version": "3.6.5"
  }
 },
 "nbformat": 4,
 "nbformat_minor": 2
}
